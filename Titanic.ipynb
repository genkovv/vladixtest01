{
 "cells": [
  {
   "cell_type": "code",
   "execution_count": 866,
   "metadata": {},
   "outputs": [],
   "source": [
    "# The purpose of this code is to predict and assign survival values to Titanic passangers with unknown survival statistics\n",
    "\n",
    "import pandas as pd\n",
    "import numpy as np\n",
    "import matplotlib.pyplot as plt\n",
    "\n",
    "train = pd.read_csv(\"train.csv\")\n",
    "test = pd.read_csv(\"test.csv\")\n",
    "train[\"Pclass\"] = train[\"Pclass\"].astype(object)\n",
    "train[\"Survived\"] = train [\"Survived\"].astype(object)\n",
    "test[\"Pclass\"] = test[\"Pclass\"].astype(object)\n",
    "#len(np.unique(train[\"Name\"]))                     # unique passangers\n",
    "train_new = train.copy()\n",
    "train[\"ModelPrediction\"]=0\n",
    "train.loc[train.Sex == \"female\", \"ModelPrediction\"] = 1\n",
    "\n",
    "sum(train.ModelPrediction == train.Survived) / train.shape[0]\n",
    "\n",
    "#sum(train.ModelPrediction==1)\n",
    "#sum((train.ModelPrediction==1) & (train.Survived==1))\n",
    "#sum((train.ModelPrediction==0) & (train.Survived==0))\n",
    "#sum(train.ModelPrediction == train.Survived) \n",
    "#train.loc[train.ModelPrediction==1&train.Survived\n",
    "#pclass_survived = train.groupby([\"Pclass\",\"Survived\"]).Pclass.count()\n",
    "#pclass_survived=train.groupby([\"Pclass\",\"Sex\",\"Age\",\"Survived\"]).Survived.count()\n",
    "\n",
    "pd.set_option(\"max_rows\",500,\"max_columns\",500)\n",
    "\n",
    "#pclass_survived\n"
   ]
  },
  {
   "cell_type": "code",
   "execution_count": 867,
   "metadata": {},
   "outputs": [],
   "source": [
    "#train.groupby(['Pclass', 'Sex', 'Survived']).Survived.count()\n",
    "#train.shape[1]\n",
    "train_new.insert(12,\"ModelPrediction\",value=0)   # create additional column called \"ModelPrediction\"\n",
    "totalnum=train_new.shape[0]                      # assign total number of rows to new variable\n",
    "\n",
    "#for i in range(0,totalnum):\n",
    "#    if train_new.loc[i,\"Sex\"]==\"female\" and train_new.loc[i,\"Pclass\"]!=3:\n",
    "#        train_new.loc[i,\"ModelPrediction\"]=1\n",
    "\n",
    "for i in range(0,totalnum):\n",
    "    if train_new.loc[i,\"Sex\"]==\"female\":\n",
    "        train_new.loc[i,\"ModelPrediction\"]=1\n",
    "\n",
    "#sum(train_new.ModelPrediction==train_new.Survived)/train_new.shape[0]\n",
    "#sum((train_new.ModelPrediction==1) & (train_new.Survived==1))\n",
    "#sum((train_new.ModelPrediction==0) & (train_new.Survived==0))"
   ]
  },
  {
   "cell_type": "code",
   "execution_count": 868,
   "metadata": {},
   "outputs": [],
   "source": [
    "submission=pd.DataFrame(test[\"PassengerId\"].values,columns=[\"PassengerId\"])\n",
    "test[\"ModelPrediction\"]=0\n",
    "test.loc[(((test[\"Pclass\"]==1)|(test[\"Pclass\"]==2))&(test[\"Sex\"]==\"female\")),\"ModelPrediction\"]=1  # All female in 1st or 2nd class survived.\n",
    "test.loc[((((test[\"Sex\"]==\"female\")|(test[\"Sex\"]==\"male\"))&(test[\"Age\"]<=8))&(test[\"Pclass\"]==3)),\"ModelPrediction\"]=1 # From 3rd class only male or female younger or 8 years old survived\n",
    "test.loc[(((test[\"Pclass\"]==1)|(test[\"Pclass\"]==2))&((test[\"Sex\"]==\"male\")&(test[\"Age\"]<=8))),\"ModelPrediction\"]=1   # From class1 and 2 survived only male younger or 8 years old\n",
    "submission[\"Survived\"]=test[\"ModelPrediction\"].values\n",
    "export_csv=submission.to_csv(\"submission.csv\")\n",
    "\n",
    "#info=test.groupby([\"Pclass\",\"Sex\",\"Age\",\"ModelPrediction\"]).ModelPrediction.count()\n",
    "#info\n"
   ]
  },
  {
   "cell_type": "code",
   "execution_count": null,
   "metadata": {},
   "outputs": [],
   "source": []
  },
  {
   "cell_type": "code",
   "execution_count": null,
   "metadata": {},
   "outputs": [],
   "source": []
  }
 ],
 "metadata": {
  "kernelspec": {
   "display_name": "Python 3",
   "language": "python",
   "name": "python3"
  },
  "language_info": {
   "codemirror_mode": {
    "name": "ipython",
    "version": 3
   },
   "file_extension": ".py",
   "mimetype": "text/x-python",
   "name": "python",
   "nbconvert_exporter": "python",
   "pygments_lexer": "ipython3",
   "version": "3.6.0"
  }
 },
 "nbformat": 4,
 "nbformat_minor": 2
}
